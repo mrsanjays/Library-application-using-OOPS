{
  "nbformat": 4,
  "nbformat_minor": 0,
  "metadata": {
    "colab": {
      "provenance": []
    },
    "kernelspec": {
      "name": "python3",
      "display_name": "Python 3"
    }
  },
  "cells": [
    {
      "cell_type": "markdown",
      "metadata": {
        "id": "UYmMpXkNw9I6"
      },
      "source": [
        "### Instructions"
      ]
    },
    {
      "cell_type": "markdown",
      "metadata": {
        "id": "2i36Yv3-MPY5"
      },
      "source": [
        "### Problem Statement \n",
        "\n",
        "In this project, create an interactive Library application using the concept of **Object Oriented Programming**. \n",
        "\n",
        "Ask the user to enter a number from 1, 2, 3, 4, or 9. These numbers indicate the following options: \n",
        "\n",
        "  - **1: Display books** $\\Longrightarrow$ This option displays all books in the library.\n",
        "\n",
        "  - **2: Lend a book** $\\Longrightarrow$ This option allows the user to lend a book to another user.\n",
        "\n",
        "  - **3: Add a book** $\\Longrightarrow$ This option enables the user to add a new book to the library.\n",
        "\n",
        "  - **4: Collect a book** $\\Longrightarrow$ This option will collect the book back from the user.\n",
        "\n",
        "  - **9: Quit** $\\Longrightarrow$ This option will allow the user to quit the application.\n",
        "\n",
        "  "
      ]
    },
    {
      "cell_type": "markdown",
      "metadata": {
        "id": "vYChcL-WMRFV"
      },
      "source": [
        "---"
      ]
    },
    {
      "cell_type": "markdown",
      "metadata": {
        "id": "toeLx5LJpIV-"
      },
      "source": [
        "### List of Activities\n",
        "\n",
        "**Activity 1:** Create a `LibraryAdmin` class.\n",
        "\n",
        "**Activity 2:** Create the following four functions inside the `LibraryAdmin` class:\n",
        "\n",
        " - `display_book()`: To display all the books.\n",
        "\n",
        " - `lend_book()`: To lend a book. \n",
        "\n",
        " - `add_book()`: To add a new book.\n",
        "\n",
        " - `collect_book()`: To collect a book back.  \n",
        "\n",
        "**Activity 3:** Create an object of `LibraryAdmin` class.\n",
        "\n",
        "**Activity 4:** Call the functions."
      ]
    },
    {
      "cell_type": "markdown",
      "metadata": {
        "id": "5JRlGIBRqCGl"
      },
      "source": [
        "---"
      ]
    },
    {
      "cell_type": "markdown",
      "metadata": {
        "id": "UCusTfW0tcxe"
      },
      "source": [
        "#### Activity 1: Create a `LibraryAdmin` Class\n",
        "\n",
        "Create a class `LibraryAdmin`. Add a constructor (`__init()__` function) to the class. This constructor must initialise the following variables:\n",
        "\n"
      ]
    },
    {
      "cell_type": "code",
      "metadata": {
        "id": "6RL71w3ntzcH"
      },
      "source": [
        "#  Create class LibraryAdmin and add constructor\n",
        "class LibraryAdmin:\n",
        "  def __init__(self,lb):\n",
        "    self.list_books=lb\n",
        "    self.borrowers_dict={}"
      ],
      "execution_count": 1,
      "outputs": []
    },
    {
      "cell_type": "markdown",
      "metadata": {
        "id": "RETr5Tv1JBls"
      },
      "source": [
        "---"
      ]
    },
    {
      "cell_type": "markdown",
      "metadata": {
        "id": "NyHSsEwEoEvH"
      },
      "source": [
        "#### Activity 2: Add Functions\n",
        "\n",
        "Add the following four functions inside the `LibraryAdmin` class:\n",
        "\n"
      ]
    },
    {
      "cell_type": "code",
      "metadata": {
        "id": "JPMbyEbOoWz0"
      },
      "source": [
        "# Create Functions inside 'Library' class.\n",
        "class LibraryAdmin:\n",
        "  def __init__(self,lb):\n",
        "    self.list_books=lb\n",
        "    self.borrowers_dict={}\n",
        "  def display_books(self):\n",
        "    print('Books in the library')\n",
        "    for i in range(len(self.list_books)):\n",
        "      print(f'{i+1}.{self.list_books[i]}')\n",
        "  def lend_book(self,book,borrower):\n",
        "    if book not in self.borrowers_dict.keys():\n",
        "      self.borrowers_dict.update({book:borrower})\n",
        "      print(f'{book} book is lend to {borrower}')\n",
        "    else:\n",
        "      print(\"Sorry, this book is already issued\")\n",
        "  def add_book(self,book):\n",
        "    self.list_books.append(book)\n",
        "    print(f'{book} has been successfully added in the Library')\n",
        "  def collect_book(self,book):\n",
        "    self.borrowers_dict.pop(book)\n",
        "    print(f'{book} is successfully removed from the Library')"
      ],
      "execution_count": 6,
      "outputs": []
    },
    {
      "cell_type": "markdown",
      "metadata": {
        "id": "hRxkk8dCAFMr"
      },
      "source": [
        "---"
      ]
    },
    {
      "cell_type": "markdown",
      "metadata": {
        "id": "NUWsq3QFG4Q3"
      },
      "source": [
        "#### Activity 3: Create an Object of `LibraryAdmin`\n",
        "\n",
        "Create an object of `LibraryAdmin` class and pass a list as a parameter. This list consists of names of books that initially exist in your library.\n",
        "\n"
      ]
    },
    {
      "cell_type": "code",
      "metadata": {
        "id": "cHEBBL8JOymV"
      },
      "source": [
        "# Create an object of Library class and pass a list of books as a parameter\n",
        "a=LibraryAdmin(['Data Structures','C Progaramming','Java','Linear Integrated Circuits'])"
      ],
      "execution_count": 7,
      "outputs": []
    },
    {
      "cell_type": "markdown",
      "metadata": {
        "id": "TjVfq3s_G8Z8"
      },
      "source": [
        "---"
      ]
    },
    {
      "cell_type": "markdown",
      "metadata": {
        "id": "rl-1j6RYQsYb"
      },
      "source": [
        "#### Activity 4: Call the Function"
      ]
    },
    {
      "cell_type": "code",
      "metadata": {
        "id": "RJ72_giGoYEj",
        "colab": {
          "base_uri": "https://localhost:8080/"
        },
        "outputId": "c0cda188-f20c-42e8-c6eb-9a853c419d9e"
      },
      "source": [
        "# Call the functions\n",
        "while True:\n",
        "  print('''\\n\\nEnter :\n",
        "        1 to DISPLAY books\n",
        "        2 to LEND a book\n",
        "        3 to ADD a book\n",
        "        4 to COLLECT a book\n",
        "        9 to QUIT the application''')\n",
        "  valid_entries=[1,2,3,4,9]\n",
        "  user_choice=int(input(\"\\nenter valid number:\"))\n",
        "  while user_choice not in valid_entries:\n",
        "    print('Please enter a valid option:')\n",
        "    user_choice=int(input(\" \\nplease enter valid number:\"))\n",
        "\n",
        "  if user_choice==1:\n",
        "    a.display_books()\n",
        "  elif user_choice==2:\n",
        "    book=input('\\nEnter lend books name:')\n",
        "    borrower=input('\\nenter the name of the borrower:')\n",
        "    a.lend_book(book,borrower)\n",
        "  elif user_choice==3:\n",
        "    book=input(\"\\nenter the adding book name:\")\n",
        "    a.add_book(book)\n",
        "  elif user_choice==4:\n",
        "    book=input('\\nenter the name of the book which is to be collected back:')\n",
        "    a.collect_book(book)\n",
        "  elif user_choice==9:\n",
        "    break"
      ],
      "execution_count": 8,
      "outputs": [
        {
          "name": "stdout",
          "output_type": "stream",
          "text": [
            "\n",
            "\n",
            "Enter :\n",
            "        1 to DISPLAY books\n",
            "        2 to LEND a book\n",
            "        3 to ADD a book\n",
            "        4 to COLLECT a book\n",
            "        9 to QUIT the application\n",
            "\n",
            "enter valid number:1\n",
            "Books in the library\n",
            "1.Data Structures\n",
            "2.C Progaramming\n",
            "3.Java\n",
            "4.Linear Integrated Circuits\n",
            "\n",
            "\n",
            "Enter :\n",
            "        1 to DISPLAY books\n",
            "        2 to LEND a book\n",
            "        3 to ADD a book\n",
            "        4 to COLLECT a book\n",
            "        9 to QUIT the application\n",
            "\n",
            "enter valid number:2\n",
            "\n",
            "Enter lend books name:Java\n",
            "\n",
            "enter the name of the borrower:SANJAY\n",
            "Java book is lend to SANJAY\n",
            "\n",
            "\n",
            "Enter :\n",
            "        1 to DISPLAY books\n",
            "        2 to LEND a book\n",
            "        3 to ADD a book\n",
            "        4 to COLLECT a book\n",
            "        9 to QUIT the application\n",
            "\n",
            "enter valid number:3\n",
            "\n",
            "enter the adding book name:Python\n",
            "Python has been successfully added in the Library\n",
            "\n",
            "\n",
            "Enter :\n",
            "        1 to DISPLAY books\n",
            "        2 to LEND a book\n",
            "        3 to ADD a book\n",
            "        4 to COLLECT a book\n",
            "        9 to QUIT the application\n",
            "\n",
            "enter valid number:4\n",
            "\n",
            "enter the name of the book which is to be collected back:Java\n",
            "Java is successfully removed from the Library\n",
            "\n",
            "\n",
            "Enter :\n",
            "        1 to DISPLAY books\n",
            "        2 to LEND a book\n",
            "        3 to ADD a book\n",
            "        4 to COLLECT a book\n",
            "        9 to QUIT the application\n",
            "\n",
            "enter valid number:1\n",
            "Books in the library\n",
            "1.Data Structures\n",
            "2.C Progaramming\n",
            "3.Java\n",
            "4.Linear Integrated Circuits\n",
            "5.Python\n",
            "\n",
            "\n",
            "Enter :\n",
            "        1 to DISPLAY books\n",
            "        2 to LEND a book\n",
            "        3 to ADD a book\n",
            "        4 to COLLECT a book\n",
            "        9 to QUIT the application\n",
            "\n",
            "enter valid number:9\n"
          ]
        }
      ]
    }
  ]
}